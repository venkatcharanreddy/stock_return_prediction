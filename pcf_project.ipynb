{
  "nbformat": 4,
  "nbformat_minor": 0,
  "metadata": {
    "colab": {
      "provenance": [],
      "collapsed_sections": [],
      "authorship_tag": "ABX9TyM99PW+ejmQ0RtkTrzUgNNT",
      "include_colab_link": true
    },
    "kernelspec": {
      "name": "python3",
      "display_name": "Python 3"
    },
    "language_info": {
      "name": "python"
    }
  },
  "cells": [
    {
      "cell_type": "markdown",
      "metadata": {
        "id": "view-in-github",
        "colab_type": "text"
      },
      "source": [
        "<a href=\"https://colab.research.google.com/github/venkatcharanreddy/stock_return_prediction/blob/main/pcf_project.ipynb\" target=\"_parent\"><img src=\"https://colab.research.google.com/assets/colab-badge.svg\" alt=\"Open In Colab\"/></a>"
      ]
    },
    {
      "cell_type": "code",
      "execution_count": 5,
      "metadata": {
        "id": "yko8j43Oefuo"
      },
      "outputs": [],
      "source": [
        "import pandas as pd\n"
      ]
    },
    {
      "cell_type": "markdown",
      "source": [
        "### Notebook location"
      ],
      "metadata": {
        "id": "sJ8qCZPIgQww"
      }
    },
    {
      "cell_type": "code",
      "source": [
        "%pwd"
      ],
      "metadata": {
        "colab": {
          "base_uri": "https://localhost:8080/",
          "height": 37
        },
        "id": "oxZNZMwqemvf",
        "outputId": "7a5b3898-632e-459a-9d24-d626f6f4b5a2"
      },
      "execution_count": 14,
      "outputs": [
        {
          "output_type": "execute_result",
          "data": {
            "text/plain": [
              "'/content'"
            ],
            "application/vnd.google.colaboratory.intrinsic+json": {
              "type": "string"
            }
          },
          "metadata": {},
          "execution_count": 14
        }
      ]
    },
    {
      "cell_type": "markdown",
      "source": [
        "# Loading CRSP data"
      ],
      "metadata": {
        "id": "zhuz5ck8gzP4"
      }
    },
    {
      "cell_type": "code",
      "source": [],
      "metadata": {
        "id": "lpMw_zU1g9c4"
      },
      "execution_count": null,
      "outputs": []
    },
    {
      "cell_type": "markdown",
      "source": [
        "# Loading Compustat data\n"
      ],
      "metadata": {
        "id": "RGYXn908g-EQ"
      }
    },
    {
      "cell_type": "code",
      "source": [],
      "metadata": {
        "id": "10jz5tJuhOGm"
      },
      "execution_count": null,
      "outputs": []
    },
    {
      "cell_type": "markdown",
      "source": [
        "# Merging CRSP and Compustat data"
      ],
      "metadata": {
        "id": "VyS2PEHchRnm"
      }
    },
    {
      "cell_type": "code",
      "source": [],
      "metadata": {
        "id": "dAHb3K2_hXJP"
      },
      "execution_count": null,
      "outputs": []
    },
    {
      "cell_type": "markdown",
      "source": [
        "# Creating Fundamental Features"
      ],
      "metadata": {
        "id": "sgSb88OfhXi9"
      }
    },
    {
      "cell_type": "code",
      "source": [],
      "metadata": {
        "id": "Kuk9nyd1hczN"
      },
      "execution_count": null,
      "outputs": []
    },
    {
      "cell_type": "markdown",
      "source": [
        "# Creating CRSP Features"
      ],
      "metadata": {
        "id": "eooOBEDfhdfV"
      }
    },
    {
      "cell_type": "code",
      "source": [],
      "metadata": {
        "id": "GUfW4stWiCTq"
      },
      "execution_count": null,
      "outputs": []
    },
    {
      "cell_type": "markdown",
      "source": [
        "# Stock price/return prediction"
      ],
      "metadata": {
        "id": "O60sMHFKiDr5"
      }
    },
    {
      "cell_type": "code",
      "source": [],
      "metadata": {
        "id": "Ou-UQekfiIxI"
      },
      "execution_count": null,
      "outputs": []
    }
  ]
}